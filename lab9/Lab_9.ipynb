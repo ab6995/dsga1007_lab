{
 "cells": [
  {
   "cell_type": "markdown",
   "metadata": {},
   "source": [
    "# DSGA1007 - Programming for Data Science Lab\n",
    "Comprehensive example using most of the concepts we have learned so far.\n",
    "\n",
    "## Objective\n",
    "The objective of this Lab is to build a toy library to perform hypothesis testing.\n",
    "The idea is to have in mind the usual criteria that we have used to evaluate the quality of a software product.\n",
    "\n",
    "These are:\n",
    "\n",
    "### Correctness\n",
    "- The program produces the correct output when run using the command\n",
    "\n",
    "### Exception/Error Handling\n",
    "- All possible exceptions are handled correctly\n",
    "- The code catches specific exceptions (e.g. KeyboardInterrupt) rather than using a catchall statement\n",
    "- Invalid user input is handled correctly (when input is required by the assignment)\n",
    "- User defined exception(s) are employed for indicating error conditions rather than raising generic exceptions\n",
    "\n",
    "### Comments\n",
    "- The main program contains a comment that lists the authors, and describes the overall program behavior\n",
    "- Comments are used to explain intent and/or warn of consequences where appropriate\n",
    "- Doc strings are used to describe each function\n",
    "- Comments are used to document public methods in the class\n",
    "- There is no commented out code\n",
    "\n",
    "### Structure\n",
    "- At least one class is used\n",
    "- The class is in separate module from main program\n",
    "- Modules are used to structure the program\n",
    "- The program is correctly structured as a Python package\n",
    "- The code is easily understandable (i.e. divided into logical sections, well structured, etc.)\n",
    "- The code uses meaningful names for variables, functions, and methods, and avoids “Hungarian” notation\n",
    "- Function/method bodies are kept small\n",
    "\n",
    "### Testing\n",
    "- Unit tests are provided with the solution code\n",
    "- The unit tests pass correctly\n",
    "\n",
    "## Hypothesis Testing Overview by Example\n",
    "We will describe the Hypothesis Testing framework using the [Professional Hockey DatabaseData on hockey players, teams, and coaches from 1909 to 2011](https://www.kaggle.com/open-source-sports/professional-hockey-database) as an example to build a test.\n",
    "\n",
    "The framwork works as follows:\n",
    "We formulate a Null Hypothesis (H0) and an alternative Hypothesis (H1).\n",
    "In our case we will test whether the average goals scored in 2011 by players who are born in the first 3 months of the year (Group_A) is higher than the average goals scored in 2011 by players who are born in the rest of the year (Group_B). This test is motivated by [Malcolm Gladwell Outliers](http://nymag.com/arts/books/features/52014/index2.html) example on Canadian Hockey players. If you don't know Malcom Gladwell I sugest looking his [TED Talks](https://www.ted.com/speakers/malcolm_gladwell), it has nothing to do with Python or Hypothesis Testing, but they are cool :)\n",
    "\n",
    "**H0: mean(Group_A['G']) - mean(Group_B['G']) = 0**\n",
    "\n",
    "**H1: mean(Group_A['G']) - mean(Group_B['G']) > 0**\n",
    "\n",
    "Notice that mean(Group_A['G']) - mean(Group_B['G']) is just a single quantity that summarizes the data, we will call this a Test Statistic. We need to establish (by assumption or by estimation) a distribution for this Test Statistic under the Null Hypothesis (If we assume that H0 is true, how would the Test Statistic be distributed). We will assume that the distribution of two sample means is Normal and the calculcation for the parameters will be provided.\n",
    "\n",
    "The signifficance of a Hypothesis Test (alpha) is the probability of rejecting the null hypothesis when it is true. We can think of it as a threshold for the probability of the Test Statistic for our data. This is established for a certain test beforehand (5% is usually used).\n",
    "\n",
    "Finally, we need to check if the probability of the Test Statistic value for the data given its distribution (called p-value) is lower than the threshold we established then we can reject the null hypothesis."
   ]
  },
  {
   "cell_type": "markdown",
   "metadata": {},
   "source": [
    "## Hypothesis Testing Specification\n",
    "\n",
    "You are provided with a sample Module (hypothesis_testing.py) in which you have a base structure of Classes attributes and methods. You don't have to stick to it, it is just an example of how you could structure your code."
   ]
  },
  {
   "cell_type": "code",
   "execution_count": null,
   "metadata": {
    "collapsed": false
   },
   "outputs": [],
   "source": [
    "import numpy as np\n",
    "import pandas as pd\n",
    "import matplotlib.pyplot as plt\n",
    "import seaborn as sns\n",
    "from scipy.stats import norm\n",
    "from importlib import reload\n",
    "from stats_lib import hypothesis_testing as ht\n",
    "\n",
    "# Since I am currently developing the library I need to reload it\n",
    "reload(ht)\n",
    "\n",
    "%matplotlib inline"
   ]
  },
  {
   "cell_type": "markdown",
   "metadata": {},
   "source": [
    "You will need some data to perform the test.\n",
    "Load the Master.csv and Scoring.csv and join them in a single dataset called **data**."
   ]
  },
  {
   "cell_type": "code",
   "execution_count": null,
   "metadata": {
    "collapsed": true
   },
   "outputs": [],
   "source": [
    "players = None # read Master.csv data\n",
    "scoring = None # read Scoring.csv data"
   ]
  },
  {
   "cell_type": "code",
   "execution_count": null,
   "metadata": {
    "collapsed": false
   },
   "outputs": [],
   "source": [
    "players.columns"
   ]
  },
  {
   "cell_type": "code",
   "execution_count": null,
   "metadata": {
    "collapsed": false
   },
   "outputs": [],
   "source": [
    "scoring.columns"
   ]
  },
  {
   "cell_type": "code",
   "execution_count": null,
   "metadata": {
    "collapsed": false
   },
   "outputs": [],
   "source": [
    "data = None # Join of players and scoring"
   ]
  },
  {
   "cell_type": "code",
   "execution_count": null,
   "metadata": {
    "collapsed": false
   },
   "outputs": [],
   "source": [
    "data.columns"
   ]
  },
  {
   "cell_type": "markdown",
   "metadata": {},
   "source": [
    "Keep only the data corresponding to the year 2011 and calculate the average number of goals by player for that year."
   ]
  },
  {
   "cell_type": "code",
   "execution_count": null,
   "metadata": {
    "collapsed": false
   },
   "outputs": [],
   "source": [
    "data_2011 = None # 2011 data, hint: boolean indexing\n",
    "# calculate mean"
   ]
  },
  {
   "cell_type": "markdown",
   "metadata": {},
   "source": [
    "Separate the data in two Groups (players born in the first 3 months of the year (Group_A) and players born in the rest of the year (Group_B))"
   ]
  },
  {
   "cell_type": "code",
   "execution_count": null,
   "metadata": {
    "collapsed": false
   },
   "outputs": [],
   "source": [
    "group_A = None # First 3 months \n",
    "group_B = None # Rest of the year"
   ]
  },
  {
   "cell_type": "markdown",
   "metadata": {},
   "source": [
    "Calculate the average number of goals by player for each group.\n",
    "\n",
    "It Group_A's mean should be a bit higher, but... is it statistically significant?"
   ]
  },
  {
   "cell_type": "code",
   "execution_count": null,
   "metadata": {
    "collapsed": false
   },
   "outputs": [],
   "source": [
    "# Calculate group_A's mean"
   ]
  },
  {
   "cell_type": "code",
   "execution_count": null,
   "metadata": {
    "collapsed": false
   },
   "outputs": [],
   "source": [
    "# Calculate group_B's mean"
   ]
  },
  {
   "cell_type": "markdown",
   "metadata": {},
   "source": [
    "Now you will need to define a Test Statistic. Remember that you will need to specify a way to summarize your data into a single value, a distribution for this Test Statistic under the null hypothesis. Also implement a method to plot the Probability Density function of that distribution.\n",
    "\n",
    "You can assume that distributions behave like those specified in scipy.stats (they are built the same way and implement the same methods)"
   ]
  },
  {
   "cell_type": "code",
   "execution_count": null,
   "metadata": {
    "collapsed": false
   },
   "outputs": [],
   "source": [
    "# You might need to represent you input data in a certain way.\n",
    "test_data = None"
   ]
  },
  {
   "cell_type": "code",
   "execution_count": null,
   "metadata": {
    "collapsed": false
   },
   "outputs": [],
   "source": [
    "# Create a Test Statistic object\n",
    "# This formula should give you a single value\n",
    "def formula(data):\n",
    "    pass\n",
    "\n",
    "test_statistic = ht.TestStatistic(point_estimate=formula)"
   ]
  },
  {
   "cell_type": "code",
   "execution_count": null,
   "metadata": {
    "collapsed": false
   },
   "outputs": [],
   "source": [
    "# Calculate the value of the Test Statistic for your data\n",
    "test_statistic.point_estimate(test_data)"
   ]
  },
  {
   "cell_type": "code",
   "execution_count": null,
   "metadata": {
    "collapsed": false
   },
   "outputs": [],
   "source": [
    "# Use a Normal distribution with these parameters as the Test Statistic Distribution\n",
    "mean = 0\n",
    "variance = (group_A['G'].var() / group_A.shape[0]) + (group_B['G'].var() / group_B.shape[0])\n",
    "std = np.sqrt(variance)\n",
    "'~N({}, {})'.format(mean, variance)"
   ]
  },
  {
   "cell_type": "code",
   "execution_count": null,
   "metadata": {
    "collapsed": false
   },
   "outputs": [],
   "source": [
    "# Remember this is the distribution under the Null Hypothesis (that is why mean=0)\n",
    "diff_sample_means_dist = norm(mean, std)"
   ]
  },
  {
   "cell_type": "code",
   "execution_count": null,
   "metadata": {
    "collapsed": true
   },
   "outputs": [],
   "source": [
    "test_statistic.set_null_distribution(diff_sample_means_dist)"
   ]
  },
  {
   "cell_type": "code",
   "execution_count": null,
   "metadata": {
    "collapsed": false
   },
   "outputs": [],
   "source": [
    "# Plot the distribution of the test Statistic\n",
    "test_statistic.plot_pdf()"
   ]
  },
  {
   "cell_type": "code",
   "execution_count": null,
   "metadata": {
    "collapsed": false
   },
   "outputs": [],
   "source": [
    "# Build your hypothesis test object\n",
    "# You are only required to implement one tailed tests, so make sure your user is aware of that \n",
    "# (Hint: raise the appropriate Exception when one_tailed=False)\n",
    "H0 = 'mean(Group_A) - mean(Group_B) = 0'\n",
    "H1 = 'mean(Group_A) - mean(Group_B) > 0'\n",
    "hypothesis_test = ht.HypothesisTest(test_statistic, H0, H1, alpha=0.05)"
   ]
  },
  {
   "cell_type": "markdown",
   "metadata": {},
   "source": [
    "Now you should calculate the pvalue for the test, the critical value and if the Null Hypothesis should be rejected or not. How do you think these should be implemented in your library?"
   ]
  },
  {
   "cell_type": "code",
   "execution_count": null,
   "metadata": {
    "collapsed": false
   },
   "outputs": [],
   "source": [
    "# Output the p-value"
   ]
  },
  {
   "cell_type": "code",
   "execution_count": null,
   "metadata": {
    "collapsed": false
   },
   "outputs": [],
   "source": [
    "# Output the critical value (value for which the probability is alpha)\n",
    "# This is a one tailed test so this would be the point where 1 - cdf = alpha"
   ]
  },
  {
   "cell_type": "code",
   "execution_count": null,
   "metadata": {
    "collapsed": false
   },
   "outputs": [],
   "source": [
    "# Method for thesting if H0 should be rejected"
   ]
  },
  {
   "cell_type": "markdown",
   "metadata": {},
   "source": [
    "# Let's get to work!\n",
    "### <font color='blue'>Exercise 1 – Hypothesis Testing Module</font>\n",
    "Form groups of 3 students they will be called A, B and C:\n",
    "\n",
    "## <font color='blue'>General Tasks:</font>\n",
    "Discuss the general design of the Hypothesis Testing module.\n",
    "What parameters do you need the Classes to have, what methods should each Class implement and how will you call them.\n",
    "Once you have established this stucture you can go ahead and perform your specific tasks.\n",
    "\n",
    "## <font color='blue'>Tasks for A:</font>\n",
    "- Implement the Hypothesis Testing Module according to the provided specifications. You need to be able to performe all the describes tasks.\n",
    "\n",
    "## <font color='blue'>Tasks for B:</font>\n",
    "- Implement the tests for the Hypothesis Testing Module\n",
    "(Hint: you should think about cases where you know the ground truth and you need to check if the result of your Hypothesis test is constist with the truth. In particular you can generate sample data for this task.)\n",
    "\n",
    "## <font color='blue'>Tasks for B:</font>\n",
    "- Create a User guide for the Hypothesis Testing Module. This should be similar to the example provided, but exaplained in a general way."
   ]
  }
 ],
 "metadata": {
  "anaconda-cloud": {},
  "kernelspec": {
   "display_name": "Python [python3]",
   "language": "python",
   "name": "Python [python3]"
  },
  "language_info": {
   "codemirror_mode": {
    "name": "ipython",
    "version": 3
   },
   "file_extension": ".py",
   "mimetype": "text/x-python",
   "name": "python",
   "nbconvert_exporter": "python",
   "pygments_lexer": "ipython3",
   "version": "3.5.2"
  }
 },
 "nbformat": 4,
 "nbformat_minor": 0
}
